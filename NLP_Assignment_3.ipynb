{
  "cells": [
    {
      "cell_type": "markdown",
      "metadata": {
        "id": "view-in-github",
        "colab_type": "text"
      },
      "source": [
        "<a href=\"https://colab.research.google.com/github/ashwanthpolusani/3rd_year_nlp/blob/main/NLP_Assignment_3.ipynb\" target=\"_parent\"><img src=\"https://colab.research.google.com/assets/colab-badge.svg\" alt=\"Open In Colab\"/></a>"
      ]
    },
    {
      "cell_type": "markdown",
      "source": [
        "#                                       School of Computer Science and Artificial Intelligence\n",
        "\n",
        "\n",
        "                                       \n",
        "Course Code: 21CS121\n",
        "\n",
        "Course Name: Natural Language Processing                                                                                            \n",
        "                                                    \n",
        "\n",
        "\n",
        "                                                               **Assignment 3**\n",
        "\n",
        "Course Type: Specialization Elective\n",
        "\n",
        "Date: 03/09/2024"
      ],
      "metadata": {
        "id": "g3qpBIz7DoHu"
      }
    },
    {
      "cell_type": "markdown",
      "source": [
        "1. Implement Word Embeddings on following text\n",
        "    words = ['king', 'queen', 'man', 'woman', 'paris', 'france', 'london', 'england'].f\n",
        "\n",
        "\n",
        "\n"
      ],
      "metadata": {
        "id": "713ly0ciD0wp"
      }
    },
    {
      "cell_type": "code",
      "source": [
        "# Word Embedding# Importing necessary libraries\n",
        "import spacy\n",
        "import gensim.downloader as api\n",
        "from gensim.models import Word2Vec\n",
        "from sklearn.decomposition import PCA\n",
        "import matplotlib.pyplot as plt\n",
        "# Load pre-trained word vectors (Word Embeddings)\n",
        "word_vectors = api.load(\"glove-wiki-gigaword-100\")  # Using GloVe embeddings with 100-dimensional vectors\n",
        "# Exploring Word Embeddings\n",
        "def explore_embeddings(word):\n",
        "    similar_words = word_vectors.most_similar(word)\n",
        "    print(f\"Words most similar to '{word}':\")\n",
        "    for similar_word, similarity in similar_words:\n",
        "        print(f\"{similar_word}: {similarity:.4f}\")\n",
        "words = ['king', 'queen', 'man', 'woman', 'paris', 'france', 'london', 'england']\n",
        "for word in words:\n",
        "  explore_embeddings(word)\n",
        "  print()"
      ],
      "metadata": {
        "colab": {
          "base_uri": "https://localhost:8080/"
        },
        "id": "idp-2uLuA6Z7",
        "outputId": "573018ea-5552-489e-9aab-94c186b3135c"
      },
      "execution_count": 7,
      "outputs": [
        {
          "output_type": "stream",
          "name": "stdout",
          "text": [
            "Words most similar to 'king':\n",
            "prince: 0.7682\n",
            "queen: 0.7508\n",
            "son: 0.7021\n",
            "brother: 0.6986\n",
            "monarch: 0.6978\n",
            "throne: 0.6920\n",
            "kingdom: 0.6811\n",
            "father: 0.6802\n",
            "emperor: 0.6713\n",
            "ii: 0.6676\n",
            "\n",
            "Words most similar to 'queen':\n",
            "princess: 0.7947\n",
            "king: 0.7508\n",
            "elizabeth: 0.7356\n",
            "royal: 0.7065\n",
            "lady: 0.7045\n",
            "victoria: 0.6854\n",
            "monarch: 0.6683\n",
            "crown: 0.6681\n",
            "prince: 0.6641\n",
            "consort: 0.6571\n",
            "\n",
            "Words most similar to 'man':\n",
            "woman: 0.8323\n",
            "boy: 0.7915\n",
            "one: 0.7789\n",
            "person: 0.7527\n",
            "another: 0.7522\n",
            "old: 0.7409\n",
            "life: 0.7372\n",
            "father: 0.7370\n",
            "turned: 0.7348\n",
            "who: 0.7346\n",
            "\n",
            "Words most similar to 'woman':\n",
            "girl: 0.8473\n",
            "man: 0.8323\n",
            "mother: 0.8276\n",
            "boy: 0.7721\n",
            "she: 0.7632\n",
            "child: 0.7602\n",
            "wife: 0.7505\n",
            "her: 0.7446\n",
            "herself: 0.7426\n",
            "daughter: 0.7264\n",
            "\n",
            "Words most similar to 'paris':\n",
            "prohertrib: 0.7994\n",
            "france: 0.7482\n",
            "london: 0.7338\n",
            "brussels: 0.7038\n",
            "french: 0.6931\n",
            "rome: 0.6879\n",
            "amsterdam: 0.6758\n",
            "vienna: 0.6608\n",
            "berlin: 0.6586\n",
            "madrid: 0.6284\n",
            "\n",
            "Words most similar to 'france':\n",
            "belgium: 0.8076\n",
            "french: 0.8004\n",
            "britain: 0.7951\n",
            "spain: 0.7557\n",
            "paris: 0.7482\n",
            "germany: 0.7294\n",
            "italy: 0.7164\n",
            "europe: 0.7097\n",
            "netherlands: 0.7073\n",
            "luxembourg: 0.6757\n",
            "\n",
            "Words most similar to 'london':\n",
            "sydney: 0.7536\n",
            "paris: 0.7338\n",
            "melbourne: 0.7044\n",
            "york: 0.6945\n",
            "dublin: 0.6913\n",
            "edinburgh: 0.6831\n",
            "prohertrib: 0.6786\n",
            "glasgow: 0.6696\n",
            "british: 0.6597\n",
            "britain: 0.6527\n",
            "\n",
            "Words most similar to 'england':\n",
            "scotland: 0.8307\n",
            "wales: 0.8128\n",
            "australia: 0.7859\n",
            "ireland: 0.7624\n",
            "indies: 0.7226\n",
            "manchester: 0.7210\n",
            "zealand: 0.7200\n",
            "cricket: 0.7174\n",
            "newcastle: 0.6888\n",
            "leeds: 0.6885\n",
            "\n"
          ]
        }
      ]
    },
    {
      "cell_type": "markdown",
      "source": [
        "2. Implement Word Embeddings using PCA (Principal Component Analysis) on following text\n",
        "    words = ['king', 'queen', 'man', 'woman', 'paris', 'france', 'london', 'england']."
      ],
      "metadata": {
        "id": "B4h6MOswFfmr"
      }
    },
    {
      "cell_type": "code",
      "source": [
        "# Visualizing Word Embeddings using PCA\n",
        "word_vecs = [word_vectors[word] for word in words]\n",
        "\n",
        "pca = PCA(n_components=2)\n",
        "result = pca.fit_transform(word_vecs)\n",
        "\n",
        "plt.figure(figsize=(8, 6))\n",
        "plt.scatter(result[:, 0], result[:, 1], c='green')\n",
        "\n",
        "for i, word in enumerate(words):\n",
        "    plt.annotate(word, xy=(result[i, 0], result[i, 1]))\n",
        "\n",
        "plt.title(\"Word Embeddings Visualized using PCA\")\n",
        "plt.show()"
      ],
      "metadata": {
        "colab": {
          "base_uri": "https://localhost:8080/",
          "height": 545
        },
        "id": "lsRL50JcA7aL",
        "outputId": "899365e7-c27c-4401-d192-193f0fb04473"
      },
      "execution_count": 25,
      "outputs": [
        {
          "output_type": "display_data",
          "data": {
            "text/plain": [
              "<Figure size 800x600 with 1 Axes>"
            ],
            "image/png": "[encoded data removed]"
          },
          "metadata": {}
        }
      ]
    },
    {
      "cell_type": "markdown",
      "source": [
        "3. Execute Dependency Parsing on any text or on following text.\n",
        "The quick brown fox jumps over the lazy dog"
      ],
      "metadata": {
        "id": "qSSx7fTyGHev"
      }
    },
    {
      "cell_type": "code",
      "execution_count": 18,
      "metadata": {
        "colab": {
          "base_uri": "https://localhost:8080/"
        },
        "id": "sDD5SskM6vC0",
        "outputId": "c9c2e0c6-e805-44ae-e958-745f5cab327e"
      },
      "outputs": [
        {
          "output_type": "stream",
          "name": "stdout",
          "text": [
            "Word: The \t POS: DET \tDependency: det \tHead: fox\n",
            "Word: quick \t POS: ADJ \tDependency: amod \tHead: fox\n",
            "Word: brown \t POS: ADJ \tDependency: amod \tHead: fox\n",
            "Word: fox \t POS: NOUN \tDependency: nsubj \tHead: jumps\n",
            "Word: jumps \t POS: VERB \tDependency: ROOT \tHead: jumps\n",
            "Word: over \t POS: ADP \tDependency: prep \tHead: jumps\n",
            "Word: the \t POS: DET \tDependency: det \tHead: dog\n",
            "Word: lazy \t POS: ADJ \tDependency: amod \tHead: dog\n",
            "Word: dog \t POS: NOUN \tDependency: pobj \tHead: over\n",
            "Word: . \t POS: PUNCT \tDependency: punct \tHead: jumps\n"
          ]
        }
      ],
      "source": [
        "# Load SpaCy model for Linguistic Structure and Dependency Parsing\n",
        "nlp = spacy.load(\"en_core_web_sm\")\n",
        "\n",
        "# Example sentence for analysis\n",
        "sentence = \"The quick brown fox jumps over the lazy dog.\"\n",
        "\n",
        "# Parse sentence using SpaCy\n",
        "doc = nlp(sentence)\n",
        "\n",
        "# Display linguistic structure and dependency parsing\n",
        "for token in doc:\n",
        "    print(f\"Word: {token.text} \\t POS: {token.pos_} \\tDependency: {token.dep_} \\tHead: {token.head.text}\")"
      ]
    }
  ],
  "metadata": {
    "colab": {
      "provenance": [],
      "authorship_tag": "ABX9TyMmS66ghzEnScbsiii1Gh2I",
      "include_colab_link": true
    },
    "kernelspec": {
      "display_name": "Python 3",
      "name": "python3"
    },
    "language_info": {
      "name": "python"
    }
  },
  "nbformat": 4,
  "nbformat_minor": 0
}
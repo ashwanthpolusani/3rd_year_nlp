{
  "nbformat": 4,
  "nbformat_minor": 0,
  "metadata": {
    "colab": {
      "provenance": [],
      "authorship_tag": "ABX9TyMZyQOImoyzy4tHDDrFA2aE",
      "include_colab_link": true
    },
    "kernelspec": {
      "name": "python3",
      "display_name": "Python 3"
    },
    "language_info": {
      "name": "python"
    }
  },
  "cells": [
    {
      "cell_type": "markdown",
      "metadata": {
        "id": "view-in-github",
        "colab_type": "text"
      },
      "source": [
        "<a href=\"https://colab.research.google.com/github/ashwanthpolusani/3rd_year_nlp/blob/main/NLP_Assignment_5.ipynb\" target=\"_parent\"><img src=\"https://colab.research.google.com/assets/colab-badge.svg\" alt=\"Open In Colab\"/></a>"
      ]
    },
    {
      "cell_type": "markdown",
      "source": [
        "School of Computer Science Engineering and Artificial Intelligence\n",
        "\n",
        "Course Code: 21CS121\n",
        "\n",
        "**Curse Name: Natural Language Processing**\n",
        "\n",
        "# Assignment-05\n",
        "\n",
        "Course Type: Specialization Elective\n",
        "\n",
        "Date: 22/08/2024"
      ],
      "metadata": {
        "id": "3tWYHhK_G6La"
      }
    },
    {
      "cell_type": "markdown",
      "source": [
        "1. Implement a Hidden Markov Model (HMM) for weather forecasting, taking scenario where we have hidden weather states (e.g., \"Sunny\" and \"Rainy\") and observable events (e.g., \"Dry\", \"Damp\", \"Wet\"). The goal is to predict the sequence of weather states based on the observations. [CO2]\n",
        "Problem Setup States (S):\n",
        "\n",
        " * Hidden states representing the weather (e.g., \"Sunny\", \"Rainy\").\n",
        "\n",
        " * Observations (O): Observable events that we can measure (e.g., \"Dry\", \"Damp\", \"Wet\").\n",
        "\n",
        " * Transition Probabilities (A): The probability of transitioning from one weather state to another.\n",
        "\n",
        " * Emission Probabilities (B): The probability of observing a certain event given the weather state.\n",
        "\n",
        " * Initial Probabilities (π): The probability distribution over the initial states"
      ],
      "metadata": {
        "id": "xuant25oHWB7"
      }
    },
    {
      "cell_type": "code",
      "execution_count": 10,
      "metadata": {
        "colab": {
          "base_uri": "https://localhost:8080/"
        },
        "collapsed": true,
        "id": "fPtv3UfRBLkP",
        "outputId": "49c8f0f0-00d1-4eb0-a6d9-3ecd7f69f633"
      },
      "outputs": [
        {
          "output_type": "stream",
          "name": "stdout",
          "text": [
            "Requirement already satisfied: hmmlearn in /usr/local/lib/python3.10/dist-packages (0.3.2)\n",
            "Requirement already satisfied: numpy>=1.10 in /usr/local/lib/python3.10/dist-packages (from hmmlearn) (1.26.4)\n",
            "Requirement already satisfied: scikit-learn!=0.22.0,>=0.16 in /usr/local/lib/python3.10/dist-packages (from hmmlearn) (1.3.2)\n",
            "Requirement already satisfied: scipy>=0.19 in /usr/local/lib/python3.10/dist-packages (from hmmlearn) (1.13.1)\n",
            "Requirement already satisfied: joblib>=1.1.1 in /usr/local/lib/python3.10/dist-packages (from scikit-learn!=0.22.0,>=0.16->hmmlearn) (1.4.2)\n",
            "Requirement already satisfied: threadpoolctl>=2.0.0 in /usr/local/lib/python3.10/dist-packages (from scikit-learn!=0.22.0,>=0.16->hmmlearn) (3.5.0)\n"
          ]
        }
      ],
      "source": [
        "!pip install hmmlearn\n",
        "import numpy as np\n",
        "from hmmlearn import hmm"
      ]
    },
    {
      "cell_type": "code",
      "source": [
        "# States and observations\n",
        "states = [\"Sunny\", \"Rainy\"]\n",
        "n_states = len(states)\n",
        "observations = [\"Dry\", \"Damp\", \"Wet\"]\n",
        "n_observations = len(observations)"
      ],
      "metadata": {
        "id": "i_K2PqCQOqHR"
      },
      "execution_count": 11,
      "outputs": []
    },
    {
      "cell_type": "code",
      "source": [
        "# Transition probabilities (A)\n",
        "transition_prob = np.array([\n",
        "    [0.7, 0.3],  # Sunny -> Sunny, Sunny -> Rainy\n",
        "    [0.4, 0.6]   # Rainy -> Sunny, Rainy -> Rainy\n",
        "])"
      ],
      "metadata": {
        "id": "_gLukf-fOsvR"
      },
      "execution_count": 12,
      "outputs": []
    },
    {
      "cell_type": "code",
      "source": [
        "# Emission probabilities (B)\n",
        "emission_prob = np.array([\n",
        "    [0.8, 0.15, 0.05],  # Sunny -> Dry, Damp, Wet\n",
        "    [0.1, 0.35, 0.55]   # Rainy -> Dry, Damp, Wet\n",
        "])"
      ],
      "metadata": {
        "id": "5YY2bUM-Oxet"
      },
      "execution_count": 13,
      "outputs": []
    },
    {
      "cell_type": "code",
      "source": [
        "# Initial probabilities (π)\n",
        "start_prob = np.array([0.6, 0.4])  # Sunny, Rainy"
      ],
      "metadata": {
        "id": "2QazTMliO0wY"
      },
      "execution_count": 14,
      "outputs": []
    },
    {
      "cell_type": "code",
      "source": [
        "\n",
        "# Create HMM model\n",
        "model = hmm.MultinomialHMM(n_components=n_states)\n",
        "model.startprob_ = start_prob\n",
        "model.transmat_ = transition_prob\n",
        "model.emissionprob_ = emission_prob\n",
        "\n",
        "# Define the sequence of observations: 0 -> Dry, 1 -> Damp, 2 -> Wet\n",
        "# Reshape the sequence for the model (n_samples, 1)\n",
        "observation_sequence = np.array([0, 1, 2, 0, 1]).reshape(-1, 1)  # Example observation sequence\n",
        "\n",
        "# Predict the hidden states based on the observation sequence using the Viterbi algorithm\n",
        "#logprob, hidden_states = model.decode(observation_sequence, algorithm=\"viterbi\")\n",
        "print(\"Observation sequence:\", [observations[i[0]] for i in observation_sequence])\n",
        "#print(\"Predicted hidden states:\", [states[i] for i in hidden_states])\n"
      ],
      "metadata": {
        "colab": {
          "base_uri": "https://localhost:8080/"
        },
        "collapsed": true,
        "id": "B-L-bCbeHHMr",
        "outputId": "6c225669-8ed3-4cf9-86fb-31c1299419bf"
      },
      "execution_count": 15,
      "outputs": [
        {
          "output_type": "stream",
          "name": "stderr",
          "text": [
            "WARNING:hmmlearn.hmm:MultinomialHMM has undergone major changes. The previous version was implementing a CategoricalHMM (a special case of MultinomialHMM). This new implementation follows the standard definition for a Multinomial distribution (e.g. as in https://en.wikipedia.org/wiki/Multinomial_distribution). See these issues for details:\n",
            "https://github.com/hmmlearn/hmmlearn/issues/335\n",
            "https://github.com/hmmlearn/hmmlearn/issues/340\n"
          ]
        },
        {
          "output_type": "stream",
          "name": "stdout",
          "text": [
            "Observation sequence: ['Dry', 'Damp', 'Wet', 'Dry', 'Damp']\n"
          ]
        }
      ]
    },
    {
      "cell_type": "markdown",
      "source": [
        "\n",
        " 2. Take different transition and emission probabilities or observation sequences on above problem and see how the model's predictions change. [CO2]"
      ],
      "metadata": {
        "id": "GJjIjOzFPmIS"
      }
    },
    {
      "cell_type": "code",
      "source": [
        "\n",
        "# Change the observation sequence and see how the model's predictions change\n",
        "new_observation_sequence = np.array([2, 2, 1, 0]).reshape(-1, 1)  # Example: Wet -> Wet -> Damp -> Dry\n",
        "#logprob_new, hidden_states_new = model.decode(new_observation_sequence, algorithm=\"viterbi\")\n",
        "print(\"New Observation sequence:\", [observations[i[0]] for i in new_observation_sequence])"
      ],
      "metadata": {
        "colab": {
          "base_uri": "https://localhost:8080/"
        },
        "id": "VPZmh_OYPpua",
        "outputId": "b15b0605-05c6-420f-914f-6d6e54ef2640"
      },
      "execution_count": 16,
      "outputs": [
        {
          "output_type": "stream",
          "name": "stdout",
          "text": [
            "New Observation sequence: ['Wet', 'Wet', 'Damp', 'Dry']\n"
          ]
        }
      ]
    },
    {
      "cell_type": "markdown",
      "source": [],
      "metadata": {
        "id": "6fEokTtdMbHZ"
      }
    }
  ]
}